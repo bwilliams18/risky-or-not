{
 "metadata": {
  "language_info": {
   "codemirror_mode": {
    "name": "ipython",
    "version": 3
   },
   "file_extension": ".py",
   "mimetype": "text/x-python",
   "name": "python",
   "nbconvert_exporter": "python",
   "pygments_lexer": "ipython3",
   "version": "3.8.6-final"
  },
  "orig_nbformat": 2,
  "kernelspec": {
   "name": "python3",
   "display_name": "Python 3.8.6 64-bit ('3.8.6': pyenv)",
   "metadata": {
    "interpreter": {
     "hash": "10015ebea50ef99c8393ab75e0f6a74533a1bdbf680179f080e3aa63f260652b"
    }
   }
  }
 },
 "nbformat": 4,
 "nbformat_minor": 2,
 "cells": [
  {
   "cell_type": "code",
   "execution_count": 1,
   "metadata": {},
   "outputs": [],
   "source": [
    "import feedparser\n",
    "import pandas as pd\n",
    "import datetime\n",
    "filename = \"last.txt\"\n",
    "date = datetime.datetime.now().strftime(\"%Y-%m-%d\")"
   ]
  },
  {
   "cell_type": "code",
   "execution_count": 2,
   "metadata": {},
   "outputs": [],
   "source": [
    "RiskyOrNot = feedparser.parse(\"https://riskyornot.libsyn.com/rss\")\n",
    "with open(filename,\"r\") as f:\n",
    "    last_analyzed = f.read()"
   ]
  },
  {
   "cell_type": "code",
   "execution_count": 3,
   "metadata": {},
   "outputs": [],
   "source": [
    "def format_perc(fl):\n",
    "    return f\"{int(round(fl * 100,0))}%\""
   ]
  },
  {
   "cell_type": "code",
   "execution_count": 23,
   "metadata": {
    "tags": []
   },
   "outputs": [],
   "source": [
    "episodes = list()\n",
    "for entry in RiskyOrNot.entries:\n",
    "    r = entry['summary'].find(\"☣️\")\n",
    "    nr = entry['summary'].find(\"👍🏼\")\n",
    "    if r == -1 and nr == -1:\n",
    "        continue\n",
    "    elif r == -1:\n",
    "        don = \"👍🏼\"\n",
    "        ben = \"👍🏼\"\n",
    "    elif nr == -1:\n",
    "        don = \"☣️\"\n",
    "        ben = \"☣️\"\n",
    "    elif nr < r:\n",
    "        don = \"👍🏼\"\n",
    "        ben = \"☣️\"\n",
    "    elif r < nr:\n",
    "        ben = \"👍🏼\"\n",
    "        don = \"☣️\"\n",
    "    else:\n",
    "        continue\n",
    "    episodes.append({\"title\":entry['title'], \"id\":entry['id'],'published':entry['published'], \"link\":entry['link'], \"dr. don\":don,\"prof. ben\":ben})\n",
    "df = pd.DataFrame(episodes)\n",
    "df = df.set_index('id')"
   ]
  },
  {
   "cell_type": "code",
   "execution_count": 24,
   "metadata": {},
   "outputs": [],
   "source": [
    "df.to_csv(\"episodes.csv\")"
   ]
  },
  {
   "cell_type": "code",
   "execution_count": 170,
   "metadata": {},
   "outputs": [],
   "source": [
    "diff = df[df['dr. don'] != df['prof. ben']]\n",
    "nr = df[(df['dr. don'] == \"👍🏼\") & (df['prof. ben'] == \"👍🏼\")]\n",
    "r = df[(df['dr. don'] == \"☣️\") & (df['prof. ben'] == \"☣️\")]\n",
    "nr_perc = format_perc(len(nr)/len(df))\n",
    "r_perc = format_perc(len(r) / len(df))\n",
    "diff_perc = format_perc(len(diff)/len(df))\n",
    "don_nr = len([res for res  in list(diff['dr. don']) if res == \"👍🏼\" ])\n",
    "ben_nr = len([res for res  in list(diff['prof. ben']) if res == \"👍🏼\" ])\n",
    "\n",
    "if don_nr > ben_nr:\n",
    "    risk_averse = \"Prof. Ben is more risk averse than Dr. Don.\"\n",
    "elif ben_nr < don_nr:\n",
    "    risk_averse = \"Dr. Don is more risk averse than Prof. Ben.\"\n",
    "else:\n",
    "    risk_averse = \"Dr. Don and Prof. Ben are equally risk averse.\"\n",
    "\n",
    "\n",
    "new = df.loc[:last_analyzed]\n",
    "new_diff = new[new['dr. don'] != new['prof. ben']].to_dict('records')\n",
    "diff_str = \"\\n\\t\".join([f\"{record['title']} ({record['link']})\" for record in new_diff])\n",
    "\n",
    "\n",
    "tweet_one = f\"Risky or Not numbers update for @bugcounter & @benjaminchapman {nr_perc} of the time you agreed it was not risky 👍🏼, {r_perc} of the time you agreed that it was risky ☣️. The remaining {diff_perc} of the time you disagreed. 1/3\\n\\n\"\n",
    "tweet_two = f\"When you disagreed, Dr. Don said not risky 👍🏼 {don_nr} times, and Prof. Ben said not risky 👍🏼 {ben_nr} times. The data clearly shows that {risk_averse} 2/3\\n\\n\"\n",
    "tweet_three = f\"Dr. Don and Prof. Ben disagreed on episodes:\\n\\t{diff_str} \" "
   ]
  },
  {
   "cell_type": "code",
   "execution_count": 171,
   "metadata": {},
   "outputs": [],
   "source": [
    "with open(f\"{date}.txt\",\"w\") as f:\n",
    "    f.write(tweet_one)\n",
    "    f.write(tweet_two)\n",
    "    f.write(tweet_three)\n",
    "# print(tweet_one)\n",
    "# print(tweet_two)\n",
    "# print(tweet_three)\n"
   ]
  },
  {
   "cell_type": "code",
   "execution_count": 70,
   "metadata": {},
   "outputs": [],
   "source": [
    "with open(filename,\"w\") as f:\n",
    "    f.write(RiskyOrNot.entries[0]['id'])\n"
   ]
  }
 ]
}